{
 "cells": [
  {
   "cell_type": "markdown",
   "id": "7cf8275d",
   "metadata": {},
   "source": [
    "# Linear Algebra, The Essentials!\n",
    "\n",
    "In this workbook we will introduce just enough of the basics of linear \n",
    "algebra. This is because Vector-Symbolic Architectures (VSAs) are really just fancy first-year linear algebra and matrix manipulation. \n",
    "\n",
    "\n",
    "Aside from the primer here, we recommend checking out:\n",
    "\n",
    "> [1] T. A. Garrity, All the mathematics you missed: but need to know for \n",
    "> graduate school. Cambridge, UK ; New York, NY: Cambridge University Press, \n",
    "> 2002.\n",
    "\n",
    "> [2] C. C. Aggarwal, Linear Algebra and Optimization for Machine Learning: \n",
    "> A Textbook. Springer International Publishing, 2020.\n"
   ]
  },
  {
   "cell_type": "markdown",
   "id": "c8f1f002",
   "metadata": {},
   "source": [
    "## What is Linear Algebra?\n",
    "\n",
    "*Linear algebra* is a generalization of the the simple operations over \n",
    "matrices and vectors that you may have learned about in your mathematics courses.\n",
    "\n",
    "The three fundamental objects that are used in the study of vector-symbolic\n",
    "architectures are the following:\n",
    "\n",
    "1. *Scalars*, which are the regular numbers you know and love: e.g., $1$, \n",
    "$2$, $3$, and so on. These have the standard operations that you know and love\n",
    "too: we can add them like $1 + 2$, multiply them by $3(4)$, and so on, and so\n",
    "forth. In order to keep it clear when we're talking about scalars, the \n",
    "standard convention is to talk about scalars using Greek letters,\n",
    "$\\alpha, \\beta, \\gamma, \\dots, \\omega$.\n",
    "\n",
    "2. *Vectors* can be thought of as *lists* of *scalars*. Each individual\n",
    "element of a vector is known as an *element*, *component*, or *coordinate*. We\n",
    "denote vectors by lower case Latin letters, and write them \n",
    "putting square brackets around the a comma-separated list\n",
    "of the elements:\n",
    "$$\n",
    "v = [1, 2, 3, 4, 5].\n",
    "$$\n",
    "We say that a vector with $n$ elements inside is $n$*-dimensional*. So, the\n",
    "above vector $[1,2,3,4,5]$ is a $5$-dimensional vector. In order to talk\n",
    "about elements inside of the vector, we need to use an *index*. \n",
    "So $v_1 = 1$, $v_2 = 2$, etc.\n",
    "\n",
    "3. *Matrices* are vectors which have other vectors are their entries. Matrices\n",
    "are denoted with upper-case letters $A, B, \\dots, Z$. For a matrix $A$ with\n",
    "$n$-rows and $d$-columns, we say that $A$ is an $n \\times d$-dimensional\n",
    "matrix, or just an $n \\times d$ matrix for short. To write out a matrix,\n",
    "we extend the previous vector notation to include both rows and columns:\n",
    "$$\n",
    "A = \\begin{bmatrix}\n",
    "1 & 2 & 3 \\\\\n",
    "4 & 5 & 6 \\\\\n",
    "7 & 8 & 9\n",
    "\\end{bmatrix}.\n",
    "$$\n",
    "To talk about elements inside of the matrix, we need to know both the row\n",
    "and the column of the item. So, we need two numbers. For the $3 \\times 3$\n",
    "matrix $A$ above, the item at the $(1, 1)$ index, or $A_{11} = 1$, $A_{12} = 2$,\n",
    "$A_{13}=3$. The fist index denotes *which row to look at*, and the second \n",
    "index picks out *which column to look at*."
   ]
  },
  {
   "cell_type": "markdown",
   "id": "68e61a09",
   "metadata": {},
   "source": [
    "Scalars, vectors, and matrices can be talked about in Python using\n",
    "the standard library implementation of `list`, but this is very slow. So, smarter\n",
    "minds than both you and I have come together and made something called a \n",
    "*library*, which is a collection of function, class, and variable definitions\n",
    "for us to use. The main linear algebra library used in scientific contexts\n",
    "is known as [numpy](https://numpy.org). `numpy` has powered many scientific\n",
    "achievements: for example, it is a library used by scientists\n",
    "[who produced the first picture of the event horizon of a black hole](https://numpy.org/case-studies/blackhole-image/).\n",
    "\n",
    "The typical way of interacting with `numpy` is to begin with the following\n",
    "incantation:"
   ]
  },
  {
   "cell_type": "code",
   "execution_count": 13,
   "id": "19c5e402",
   "metadata": {},
   "outputs": [],
   "source": [
    "import numpy as np"
   ]
  },
  {
   "cell_type": "markdown",
   "id": "46b85f99",
   "metadata": {},
   "source": [
    "This allows us to reference `numpy` functions and methods by the shorter name,\n",
    "`np`. Secondly, in order to see how vectors look, we will be using a very\n",
    "popular graphing library: `matplotlib`. It similarly involves an incantation,\n",
    "but this is a bit more complex:"
   ]
  },
  {
   "cell_type": "code",
   "execution_count": 14,
   "id": "c363789f",
   "metadata": {},
   "outputs": [],
   "source": [
    "# import the library and alias it\n",
    "import matplotlib.pyplot as plt\n",
    "# special python \"magic\" command\n",
    "# this puts `plt.show()` at the end of every frame\n",
    "%matplotlib inline "
   ]
  },
  {
   "cell_type": "markdown",
   "id": "f21e0c6a",
   "metadata": {},
   "source": [
    "We can initialize vectors in several ways: the simplest is to just provide a list:"
   ]
  },
  {
   "cell_type": "code",
   "execution_count": 15,
   "id": "661a2c0c",
   "metadata": {},
   "outputs": [
    {
     "data": {
      "text/plain": [
       "array([1, 2, 3])"
      ]
     },
     "execution_count": 15,
     "metadata": {},
     "output_type": "execute_result"
    }
   ],
   "source": [
    "np.array([1, 2, 3])     # initialize a vector from a list"
   ]
  },
  {
   "cell_type": "code",
   "execution_count": 16,
   "id": "9259e400",
   "metadata": {},
   "outputs": [
    {
     "data": {
      "text/plain": [
       "array([0., 0., 0.])"
      ]
     },
     "execution_count": 16,
     "metadata": {},
     "output_type": "execute_result"
    }
   ],
   "source": [
    "np.zeros(3)             # initialize an empty vector"
   ]
  },
  {
   "cell_type": "code",
   "execution_count": 17,
   "id": "8a48075a",
   "metadata": {},
   "outputs": [
    {
     "data": {
      "text/plain": [
       "array([1., 1., 1.])"
      ]
     },
     "execution_count": 17,
     "metadata": {},
     "output_type": "execute_result"
    }
   ],
   "source": [
    "np.ones(3)              # initialize a vector of ones"
   ]
  },
  {
   "cell_type": "markdown",
   "id": "e0152704",
   "metadata": {},
   "source": [
    "Matrices, we have to specify the dimensionality:"
   ]
  },
  {
   "cell_type": "code",
   "execution_count": 18,
   "id": "aefc86d0",
   "metadata": {},
   "outputs": [
    {
     "data": {
      "text/plain": [
       "array([[1, 2, 3],\n",
       "       [4, 5, 6],\n",
       "       [7, 8, 9]])"
      ]
     },
     "execution_count": 18,
     "metadata": {},
     "output_type": "execute_result"
    }
   ],
   "source": [
    "np.array(\n",
    "    [[1,2,3],\n",
    "     [4,5,6],\n",
    "     [7, 8, 9]]\n",
    ")"
   ]
  },
  {
   "cell_type": "code",
   "execution_count": 19,
   "id": "919c5222",
   "metadata": {},
   "outputs": [
    {
     "data": {
      "text/plain": [
       "array([[0., 0., 0.],\n",
       "       [0., 0., 0.],\n",
       "       [0., 0., 0.]])"
      ]
     },
     "execution_count": 19,
     "metadata": {},
     "output_type": "execute_result"
    }
   ],
   "source": [
    "np.zeros((3, 3))"
   ]
  },
  {
   "cell_type": "code",
   "execution_count": 20,
   "id": "d9f3a937",
   "metadata": {},
   "outputs": [
    {
     "data": {
      "text/plain": [
       "array([[1., 1., 1.],\n",
       "       [1., 1., 1.],\n",
       "       [1., 1., 1.]])"
      ]
     },
     "execution_count": 20,
     "metadata": {},
     "output_type": "execute_result"
    }
   ],
   "source": [
    "np.ones((3, 3))"
   ]
  },
  {
   "cell_type": "markdown",
   "id": "574413a8",
   "metadata": {},
   "source": [
    "We are also able to create vectors of random elements as well. To do this,\n",
    "we use the `numpy.random.uniform` function."
   ]
  },
  {
   "cell_type": "code",
   "execution_count": 31,
   "id": "2e2b862f",
   "metadata": {},
   "outputs": [
    {
     "data": {
      "text/plain": [
       "array([[0.68241471, 0.73596606, 0.19176839, 0.93733974, 0.10246939,\n",
       "        0.2462846 , 0.01834118, 0.15028463, 0.66504443, 0.36327406],\n",
       "       [0.80612254, 0.25802244, 0.92828889, 0.94222988, 0.50352095,\n",
       "        0.97501468, 0.44155854, 0.33163473, 0.11029503, 0.27802545],\n",
       "       [0.95126912, 0.29606477, 0.85703117, 0.40981307, 0.0982014 ,\n",
       "        0.56351136, 0.04158052, 0.02254761, 0.35040696, 0.60679058]])"
      ]
     },
     "execution_count": 31,
     "metadata": {},
     "output_type": "execute_result"
    }
   ],
   "source": [
    "np.random.uniform(size=(3, 10))"
   ]
  },
  {
   "cell_type": "markdown",
   "id": "06956796",
   "metadata": {},
   "source": [
    "The dimensionality of a `np.array` can be gotten by calling the function `.shape`:"
   ]
  },
  {
   "cell_type": "code",
   "execution_count": 32,
   "id": "fb6cf128",
   "metadata": {},
   "outputs": [
    {
     "data": {
      "text/plain": [
       "(1, 10)"
      ]
     },
     "execution_count": 32,
     "metadata": {},
     "output_type": "execute_result"
    }
   ],
   "source": [
    "np.ones((1, 10)).shape"
   ]
  },
  {
   "cell_type": "markdown",
   "id": "f9a5142e",
   "metadata": {},
   "source": [
    "### Exercises\n",
    "\n",
    "1. Initialize a $10 \\times 10$ matrix of zeros.\n",
    "2. Initialize a $100$-dimensional vector of ones.\n",
    "3. Create a $27 \\times 5$-dimensional vector with random elements."
   ]
  },
  {
   "cell_type": "markdown",
   "id": "224215d8",
   "metadata": {},
   "source": [
    "## Operations on vectors\n",
    "\n",
    "What can we do with vectors? The first, simplest operations are *element-wise\n",
    "addition* and *element-wise multiplication* (also known as the [*Hadamard product*](https://en.wikipedia.org/wiki/Jacques_Hadamard)).\n",
    "For two vectors $x$ and $y$ of the same dimension $n$ the element-wise sum \n",
    "is:\n",
    "$$\n",
    "x + y = [x_1 + y_1, x_2 + y_2, \\dots, x_n + y_n].\n",
    "$$"
   ]
  },
  {
   "cell_type": "markdown",
   "id": "61168d4c",
   "metadata": {},
   "source": [
    "To do this in `python`, it's surpisingly very simple:"
   ]
  },
  {
   "cell_type": "code",
   "execution_count": 21,
   "id": "5ce248b1",
   "metadata": {},
   "outputs": [
    {
     "data": {
      "text/plain": [
       "array([2., 2., 2.])"
      ]
     },
     "execution_count": 21,
     "metadata": {},
     "output_type": "execute_result"
    }
   ],
   "source": [
    "x = np.ones(3)      # [1, 1, 1]\n",
    "y = np.ones(3)      # [1, 1, 1]\n",
    "\n",
    "# you just do the same as with scalars:\n",
    "x + y               # should be: [2, 2, 2]"
   ]
  },
  {
   "cell_type": "markdown",
   "id": "821963b9",
   "metadata": {},
   "source": [
    "The next basic operation over vectors is similar: element-wise multiplication.\n",
    "Like element-wise addition, it is equally simple:\n",
    "\n",
    "For two $n$-dimensional vectors $x$ and $y$, the element-wise product is:\n",
    "$$\n",
    "x \\odot y = [x_1 * y_1, x_2 * y_2, \\dots, x_n * y_n].\n",
    "$$"
   ]
  },
  {
   "cell_type": "code",
   "execution_count": 22,
   "id": "87e7d2ea",
   "metadata": {},
   "outputs": [
    {
     "data": {
      "text/plain": [
       "array([ 4, 10, 18])"
      ]
     },
     "execution_count": 22,
     "metadata": {},
     "output_type": "execute_result"
    }
   ],
   "source": [
    "x = np.array([1, 2, 3])\n",
    "y = np.array([4, 5, 6])\n",
    "\n",
    "x * y               # should be [4, 10, 18]"
   ]
  },
  {
   "cell_type": "markdown",
   "id": "9491edae",
   "metadata": {},
   "source": [
    "Note that both of these operations require that the two vectors are $n$-dimensional,\n",
    "otherwise we get an error:"
   ]
  },
  {
   "cell_type": "code",
   "execution_count": 23,
   "id": "9a8855c3",
   "metadata": {},
   "outputs": [
    {
     "ename": "ValueError",
     "evalue": "operands could not be broadcast together with shapes (2,) (3,) ",
     "output_type": "error",
     "traceback": [
      "\u001b[0;31m---------------------------------------------------------------------------\u001b[0m",
      "\u001b[0;31mValueError\u001b[0m                                Traceback (most recent call last)",
      "Cell \u001b[0;32mIn[23], line 4\u001b[0m\n\u001b[1;32m      1\u001b[0m x \u001b[38;5;241m=\u001b[39m np\u001b[38;5;241m.\u001b[39mones(\u001b[38;5;241m2\u001b[39m)\n\u001b[1;32m      2\u001b[0m y \u001b[38;5;241m=\u001b[39m np\u001b[38;5;241m.\u001b[39mones(\u001b[38;5;241m3\u001b[39m)\n\u001b[0;32m----> 4\u001b[0m \u001b[43mx\u001b[49m\u001b[43m \u001b[49m\u001b[38;5;241;43m+\u001b[39;49m\u001b[43m \u001b[49m\u001b[43my\u001b[49m\n",
      "\u001b[0;31mValueError\u001b[0m: operands could not be broadcast together with shapes (2,) (3,) "
     ]
    }
   ],
   "source": [
    "x = np.ones(2)\n",
    "y = np.ones(3)\n",
    "\n",
    "x + y"
   ]
  },
  {
   "cell_type": "markdown",
   "id": "4fab171a",
   "metadata": {},
   "source": [
    "The next basic vector operation that are used in the study of cognition\n",
    "with vector-symbolic architectures is the *dot product*. You might be familiar\n",
    "with the dot product previous math courses, as it has a familiar form: for \n",
    "two $n$-dimensional vectors $x$ and $y$, the dot product is:\n",
    "$$\n",
    "x \\cdot y = \\sum_{i=1}^n x_i y_i.\n",
    "$$\n",
    "As an example, consider the vectors $x = [1, 2, 3]$ and $y = [4, 5, 6]$. The dot\n",
    "product, is:\n",
    "$$\n",
    "\\begin{align*}\n",
    "x \\cdot y &= \\sum^3_{i=1} x_i y_i \\\\\n",
    "&= 1 (4) + 2 (5) + 3 (6) \\\\\n",
    "&= 4 + 10 + 18 \\\\\n",
    "&= 14 + 18 \\\\\n",
    "&= 32.\n",
    "\\end{align*}\n",
    "$$\n",
    "Note first that the dot product of two vectors doesn't make another vector like\n",
    "our other operations. Rather, it takes two $n$-dimensional vectors and\n",
    "turns it into a number.\n",
    "\n",
    "What does this number mean? If we think about the simple case of $2$-dimensional\n",
    "vectors $x = [1, 2]$ and $y = [3, 4]$, then the dot product between vectors\n",
    "is just the sum of the products $x$-coordinates and the $y$-coordinates. Where\n",
    "do we see this? Recall, the distance of a point given it's coordinates\n",
    "from the original can be calculated via the Pythagorean theorem as:\n",
    "$$\n",
    "d = \\sqrt{x_1^2 + x_2^2}.\n",
    "$$\n",
    "We denote this as the *magnitude* of the vector $x$, $\\|x\\|$. And the inner\n",
    "term there, if we square it and get rid of the root, gives us $x_1^2 + x_2^2$,\n",
    "which is just the dot product of $x$ with itself: $x \\cdot x$. \n",
    "\n",
    "Then what is $x \\cdot y$? We define $x \\cdot y$ as product of the magnitudes\n",
    "of $x$ and $y$ with the cosine of the angle $\\theta$ between $x$ and $y$:\n",
    "$$\n",
    "x \\cdot y = \\sum_i x + y = \\| x \\| \\| y \\| \\cos (\\theta).\n",
    "$$\n",
    "\n",
    "This definition leads us to the final important function between vectors:\n",
    "*cosine similarity*. This is the measure of the angle between the two \n",
    "vectors, with $1$ for the two vectors being *colinear* (on the same line), and \n",
    "$0$ for being orthogonal (they form a right angle). \n",
    "\n",
    "We can derive this measure thus:\n",
    "$$\n",
    "\\begin{align*}\n",
    "x \\cdot y &= \\| x \\| \\|y \\| \\cos (\\theta) \\\\\n",
    "\\frac{x \\cdot y}{\\|x \\| \\|y \\|} &= \\cos (\\theta).\n",
    "\\end{align*}\n",
    "$$\n",
    "We can define this operation as:\n",
    "$$\n",
    "\\text{cosine\\_similarity}(x, y) := \\frac{x \\cdot y}{\\| x \\| \\| y\\|}.\n",
    "$$"
   ]
  },
  {
   "cell_type": "markdown",
   "id": "552a6209",
   "metadata": {},
   "source": [
    "Only two of these elementary operations are implemented in `numpy`; implementing\n",
    "cosine similarity will be left as an exercise for the reader."
   ]
  },
  {
   "cell_type": "code",
   "execution_count": null,
   "id": "2f61c708",
   "metadata": {},
   "outputs": [
    {
     "data": {
      "text/plain": [
       "32"
      ]
     },
     "execution_count": 31,
     "metadata": {},
     "output_type": "execute_result"
    }
   ],
   "source": [
    "x = np.array([1, 2, 3])\n",
    "y = np.array([4, 5, 6])\n",
    "\n",
    "# the dot product is a method\n",
    "x.dot(y)"
   ]
  },
  {
   "cell_type": "code",
   "execution_count": null,
   "id": "25d26ee8",
   "metadata": {},
   "outputs": [
    {
     "data": {
      "text/plain": [
       "32"
      ]
     },
     "execution_count": 32,
     "metadata": {},
     "output_type": "execute_result"
    }
   ],
   "source": [
    "# a more complex way of getting the same result that we will learn about\n",
    "# later on is the following:\n",
    "x @ y.T\n",
    "# these are some special operations, but just note that you can do it this way"
   ]
  },
  {
   "cell_type": "markdown",
   "id": "abbcee84",
   "metadata": {},
   "source": [
    "### Exercises\n",
    "\n",
    "1. Implement element-wise addition as a function.\n",
    "2. Implement element-wise multiplication as a function.\n",
    "3. Implement the dot product for vectors."
   ]
  },
  {
   "cell_type": "markdown",
   "id": "b4fc5edb",
   "metadata": {},
   "source": [
    "## Operations on matrices\n",
    "\n",
    "Next we will begin with operations on matrices, which are remarkably similar\n",
    "to the vector in the beginning. The element-wise sum for $n \\times d$ matrices\n",
    "$A$ and $B$ is just the element-wise multiplication of the rows of $A$ with\n",
    "the rows of $B$ (or, equivalently, the columns of $A$ with the columns of $B$):\n",
    "$$\n",
    "\\begin{align*}\n",
    "A + B &= \\begin{bmatrix} \n",
    "a_{11} & a_{12} & \\dots & a_{1d} \\\\\n",
    "a_{21} & a_{22} & \\dots & a_{2d} \\\\\n",
    "\\vdots & \\vdots & \\ddots & \\vdots \\\\\n",
    "a_{n1} & a_{n2} & \\dots & a_{nd}\n",
    "\\end{bmatrix}\n",
    "+ \\begin{bmatrix} \n",
    "b_{11} & b_{12} & \\dots & b_{1d} \\\\\n",
    "b_{21} & b_{22} & \\dots & b_{2d} \\\\\n",
    "\\vdots & \\vdots & \\ddots & \\vdots \\\\\n",
    "b_{n1} & b_{n2} & \\dots & b_{nd}\n",
    "\\end{bmatrix} \\\\\n",
    "&= \n",
    "\\begin{bmatrix} \n",
    "a_{11} + b_{11} & a_{12} + b_{12} & \\dots & a_{1d} + b_{1d} \\\\\n",
    "a_{21} + b_{21} & a_{22} + b_{22} & \\dots & a_{2d} + b_{2d} \\\\\n",
    "\\vdots & \\vdots & \\ddots & \\vdots \\\\\n",
    "a_{n1} + b_{n1} & a_{n2} + b_{n2} & \\dots & a_{nd} + b_{nd}\n",
    "\\end{bmatrix}\n",
    "\\end{align*}\n",
    "$$\n",
    "\n",
    "This is the same for element-wise multiplication between two matrices:\n",
    "$$\n",
    "\\begin{align*}\n",
    "A \\odot B &= \\begin{bmatrix} \n",
    "a_{11} & a_{12} & \\dots & a_{1d} \\\\\n",
    "a_{21} & a_{22} & \\dots & a_{2d} \\\\\n",
    "\\vdots & \\vdots & \\ddots & \\vdots \\\\\n",
    "a_{n1} & a_{n2} & \\dots & a_{nd}\n",
    "\\end{bmatrix}\n",
    "* \\begin{bmatrix} \n",
    "b_{11} & b_{12} & \\dots & b_{1d} \\\\\n",
    "b_{21} & b_{22} & \\dots & b_{2d} \\\\\n",
    "\\vdots & \\vdots & \\ddots & \\vdots \\\\\n",
    "b_{n1} & b_{n2} & \\dots & b_{nd}\n",
    "\\end{bmatrix} \\\\\n",
    "&= \n",
    "\\begin{bmatrix} \n",
    "a_{11} * b_{11} & a_{12} * b_{12} & \\dots & a_{1d} * b_{1d} \\\\\n",
    "a_{21} * b_{21} & a_{22} * b_{22} & \\dots & a_{2d} * b_{2d} \\\\\n",
    "\\vdots & \\vdots & \\ddots & \\vdots \\\\\n",
    "a_{n1} * b_{n1} & a_{n2} * b_{n2} & \\dots & a_{nd} * b_{nd}\n",
    "\\end{bmatrix}\n",
    "\\end{align*}\n",
    "$$"
   ]
  },
  {
   "cell_type": "code",
   "execution_count": null,
   "id": "0f8b0006",
   "metadata": {},
   "outputs": [
    {
     "data": {
      "text/plain": [
       "array([[2., 2., 2.],\n",
       "       [2., 2., 2.],\n",
       "       [2., 2., 2.]])"
      ]
     },
     "execution_count": 33,
     "metadata": {},
     "output_type": "execute_result"
    }
   ],
   "source": [
    "# Element-wise addition of matrices\n",
    "a = np.ones((3, 3))\n",
    "b = np.ones((3, 3))\n",
    "a + b"
   ]
  },
  {
   "cell_type": "code",
   "execution_count": null,
   "id": "1aba1ea1",
   "metadata": {},
   "outputs": [
    {
     "data": {
      "text/plain": [
       "array([[ 2,  4,  6],\n",
       "       [ 8, 10, 12],\n",
       "       [14, 16, 18]])"
      ]
     },
     "execution_count": 35,
     "metadata": {},
     "output_type": "execute_result"
    }
   ],
   "source": [
    "# Element-wise multiplication\n",
    "a = np.array([\n",
    "    [2, 2, 2],\n",
    "    [2, 2, 2],\n",
    "    [2, 2, 2],\n",
    "])\n",
    "b = np.array([\n",
    "    [1, 2, 3],\n",
    "    [4, 5, 6],\n",
    "    [7, 8, 9]\n",
    "])\n",
    "\n",
    "a * b"
   ]
  },
  {
   "cell_type": "markdown",
   "id": "dbaf89bf",
   "metadata": {},
   "source": [
    "But these aren't the only operations that are available for matrices. Recall,\n",
    "we had an alternative form of the dot product for two $d$-dimensional vectors\n",
    "$x$ and $y$,\n",
    "$$\n",
    "x y^T\n",
    "$$\n",
    "(where in the code we used a funny symbol `@` to denote this special kind\n",
    "of product). This is *matrix multiplication*. For an $n \\times d$ matrix $A$\n",
    "and a $d \\times k$ matrix $B$, the matrix product of $A$ and $B$ is an \n",
    "$n \\times k$ matrix $AB$:\n",
    "$$\n",
    "\\begin{align*}\n",
    "A B &= \\begin{bmatrix}\n",
    "a_{11} & a_{12} & \\dots & a_{1d} \\\\\n",
    "a_{21} & a_{22} & \\dots & a_{2d} \\\\\n",
    "\\vdots & \\vdots & \\ddots & \\vdots \\\\\n",
    "a_{n1} & a_{n2} & \\dots & a_{nd}\n",
    "\\end{bmatrix}\n",
    "\\begin{bmatrix}\n",
    "b_{11} & b_{12} & \\dots & b_{1d} \\\\\n",
    "b_{21} & b_{22} & \\dots & b_{2d} \\\\\n",
    "\\vdots & \\vdots & \\ddots & \\vdots \\\\\n",
    "b_{n1} & b_{n2} & \\dots & b_{nd}\n",
    "\\end{bmatrix}\\\\\n",
    "&= \\begin{bmatrix}\n",
    "a_{11} b_{11} + a_{12} b_{21} + \\dots + a_{1d} b_{n1} & a_{11} b_{12}+ a_{12} b_{22} + \\dots + a_{1d} b_{n2} & \\dots & a_{11}  b_{1d} + a_{12} b_{2d} + \\dots + a_{1d} b_{nd} \\\\\n",
    "a_{21} b_{11} + a_{22} b_{21} + \\dots + a_{2d} b_{n1} & a_{21} b_{12}+ a_{22} b_{22} + \\dots + a_{2d} b_{n2} & \\dots & a_{21}  b_{1d} + a_{22} b_{2d} + \\dots + a_{2d} b_{nd} \\\\\n",
    "\\vdots & \\vdots & \\ddots & \\vdots \\\\\n",
    "a_{n1} b_{11} + a_{n2} b_{21} + \\dots + a_{nd} b_{n1} & a_{n1} b_{12}+ a_{n2} b_{22} + \\dots + a_{nd} b_{n2} & \\dots & a_{n1}  b_{1d} + a_{n2} b_{2d} + \\dots + a_{nd} b_{nd} \\\\\n",
    "\\end{bmatrix}.\n",
    "\\end{align*}\n",
    "$$\n",
    "This is a bit unwieldy, but the astute reader will notice a specific pattern:\n",
    "we iterate over each *row* in $A$ and take the dot product with every *column*\n",
    "in $B$. Graphically, the procedure works like below:\n",
    "\n",
    "![alt text](../../../Matrix_multiplication_diagram_2.png \"Matrix multiplication, from Wikipedia\")\n",
    "\n",
    "Matrix multiplication with `numpy` is very easy, as we have seen above."
   ]
  },
  {
   "cell_type": "code",
   "execution_count": 28,
   "id": "3c45c664",
   "metadata": {},
   "outputs": [
    {
     "name": "stdout",
     "output_type": "stream",
     "text": [
      "A = array([[0.24722361, 0.77351516, 0.16902154, 0.6322197 , 0.52380344],\n",
      "       [0.0241637 , 0.5063746 , 0.35809555, 0.67655046, 0.97630666],\n",
      "       [0.73301193, 0.87380516, 0.90333692, 0.34339587, 0.51295059],\n",
      "       [0.08876799, 0.4058305 , 0.77923558, 0.20867205, 0.01856795]])\n",
      "B = array([[0.71144555, 0.07533576, 0.18180619, 0.21073147],\n",
      "       [0.46430317, 0.85345778, 0.93046243, 0.95825236],\n",
      "       [0.77547804, 0.81300566, 0.93542743, 0.23740964],\n",
      "       [0.41320611, 0.4070461 , 0.20259505, 0.7189205 ],\n",
      "       [0.43468337, 0.35785536, 0.76688268, 0.01181729]])\n",
      "A @ B = array([[1.15502987, 1.26099121, 1.45256134, 1.2941535 ],\n",
      "       [1.23393678, 1.34988724, 1.6963065 , 1.07326533],\n",
      "       [1.99259089, 1.85873592, 2.25425834, 1.45919144],\n",
      "       [0.95015781, 1.07815332, 1.17918231, 0.74283031]])\n",
      "(A@B).shape = (4, 4)\n"
     ]
    }
   ],
   "source": [
    "A = np.random.uniform(size=(4, 5)) # initialize a random vector\n",
    "B = np.random.uniform(size=(5, 4)) # another random vector\n",
    "print(f\"{A = }\")\n",
    "print(f\"{B = }\")\n",
    "print(f\"{A @ B = }\")\n",
    "print(f\"{(A@B).shape = }\")"
   ]
  },
  {
   "cell_type": "markdown",
   "id": "42a5220f",
   "metadata": {},
   "source": [
    "Another operation that will be useful for manipulating matrix is the \n",
    "*transpose* operation. For an $n \\times d$ matrix $A$, the transpose of $A$,\n",
    "denoted by $A^T$, is a $d \\times n$ matrix. I'll write out what it looks like,\n",
    "but an intuition here is that we flip the matrix down and the over.\n",
    "$$\n",
    "\\begin{align*}\n",
    "A^T &= \\begin{bmatrix}\n",
    "a_{11} & a_{12} & \\dots & a_{1d} \\\\\n",
    "a_{21} & a_{22} & \\dots & a_{2d} \\\\\n",
    "\\vdots & \\vdots & \\ddots & \\vdots \\\\\n",
    "a_{n1} & a_{n2} & \\dots & a_{nd}\n",
    "\\end{bmatrix}^T \\\\\n",
    "&= \\begin{bmatrix}\n",
    "a_{11} & a_{21} & \\dots & a_{n1} \\\\\n",
    "a_{12} & a_{22} & \\dots & a_{n2} \\\\\n",
    "\\vdots & \\vdots & \\ddots & \\vdots \\\\\n",
    "a_{1d} & a_{2d} & \\dots & a_{nd}\n",
    "\\end{bmatrix}\n",
    "\\end{align*}\n",
    "$$\n",
    "Doing this in `numpy` is also very easy:"
   ]
  },
  {
   "cell_type": "code",
   "execution_count": 30,
   "id": "eb790e38",
   "metadata": {},
   "outputs": [
    {
     "name": "stdout",
     "output_type": "stream",
     "text": [
      "A = array([[0.35334897, 0.31752937],\n",
      "       [0.1737748 , 0.55470293],\n",
      "       [0.97313347, 0.04868536]])\n",
      "A.T = array([[0.35334897, 0.1737748 , 0.97313347],\n",
      "       [0.31752937, 0.55470293, 0.04868536]])\n"
     ]
    }
   ],
   "source": [
    "A = np.random.uniform(size=(3, 2)) # random matrix\n",
    "print(f\"{A = }\")\n",
    "print(f\"{A.T = }\")"
   ]
  },
  {
   "cell_type": "markdown",
   "id": "9b52d96f",
   "metadata": {},
   "source": [
    "### Exercises\n",
    "\n",
    "1. Initialize a $2 \\times 5$ matrix with random elements.\n",
    "2. Implement element-wise addition for matrices.\n",
    "3. Implement element-wise multiplication for matrices.\n",
    "4. Implement matrix multiplication."
   ]
  },
  {
   "cell_type": "markdown",
   "id": "c7b96e6d",
   "metadata": {},
   "source": [
    "## Everything is a matrix"
   ]
  },
  {
   "cell_type": "markdown",
   "id": "c6d0758d",
   "metadata": {},
   "source": [
    "Now that we have an understanding of the basic operations of linear algebra, \n",
    "an important point about the theory of linear algebra is that all of the objects\n",
    "discussed are different subtypes of the same overarching thing: matrices,\n",
    "vectors, and scalars are all *matrices*. \n",
    "\n",
    "A $d$-dimensional vector $v$ can be thought of as a $d \\times 1$ dimensional \n",
    "matrix. Vectors so formed are called *column matrices*. $1 \\times d$ vectors are\n",
    "called *row vectors*. In linear algebra we assume all vectors are column\n",
    "vectors by default unless otherwise specified.\n",
    "\n",
    "> [Problem] For two $d$-dimensional column vectors $x$ and $y$,\n",
    "> show that $x y^T$ is equivalent to $x \\cdot y$."
   ]
  }
 ],
 "metadata": {
  "kernelspec": {
   "display_name": ".venv",
   "language": "python",
   "name": "python3"
  },
  "language_info": {
   "codemirror_mode": {
    "name": "ipython",
    "version": 3
   },
   "file_extension": ".py",
   "mimetype": "text/x-python",
   "name": "python",
   "nbconvert_exporter": "python",
   "pygments_lexer": "ipython3",
   "version": "3.8.20"
  }
 },
 "nbformat": 4,
 "nbformat_minor": 5
}
